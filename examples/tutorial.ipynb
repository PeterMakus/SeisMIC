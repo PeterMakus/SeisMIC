{
    "cells": [
        {
            "cell_type": "markdown",
            "source": [
                "# **SeisMIIC** Tutorial\n",
                "In the following, we will go through a simple example to compute a ambient noise correlations and monitor velocity changes using **SeisMIIC**.\n",
                "\n",
                "The main code is hosted here: [SeisMIIC](https://github.com/PeterMakus/PyGLImER).\n",
                "\n",
                "The documentation, which this notebook is based upon is located here:\n",
                "[SeisMIIC Documentation](https://petermakus.github.io/PyGLImER/).\n",
                "\n",
                "Without further ado, we'll dive right into it starting with data download."
            ],
            "metadata": {}
        },
        {
            "cell_type": "markdown",
            "source": [
                "## 1. Download the raw data\n",
                "**SeisMIIC** uses [obspy](https://docs.obspy.org/) to download data from FDSN servers. Here, we will download data from station ``XD.LBAB`` for one year to invistigate seasonal changes in seismic velocity.\n",
                "\n",
                "To download the data, we will use the `miic3.trace_data.waveform.Store_Client` class and its method `download_waveforms_mdl()`."
            ],
            "metadata": {}
        },
        {
            "cell_type": "code",
            "execution_count": 1,
            "source": [
                "import os\n",
                "\n",
                "from obspy.clients.fdsn import Client\n",
                "from obspy import UTCDateTime\n",
                "\n",
                "from miic3.trace_data.waveform import Store_Client\n",
                "\n",
                "# Get notebook path for future reference of the database:\n",
                "try: ipynb_path\n",
                "except NameError: ipynb_path = os.getcwd()\n",
                "\n",
                "os.chdir(ipynb_path)\n",
                "\n",
                "root = os.path.join(ipynb_path, 'data')\n",
                "os.makedirs(root, exist_ok=True)\n",
                "\n",
                "starttime = UTCDateTime(year=2001, julday=25)\n",
                "endtime = UTCDateTime(year=2002, julday=1)\n",
                "network = 'XD'\n",
                "station = 'LBAB'\n",
                "\n",
                "\n",
                "c = Client('IRIS')\n",
                "sc = Store_Client(c, root, read_only=False)\n",
                "sc.download_waveforms_mdl(\n",
                "    starttime, endtime, clients=[c], network=network,\n",
                "    station=station, location='*', channel='*')\n"
            ],
            "outputs": [
                {
                    "output_type": "error",
                    "ename": "AssertionError",
                    "evalue": "/home/pm/Documents/PhD/programes/miic3/examples/data is not a directory",
                    "traceback": [
                        "\u001b[0;31m---------------------------------------------------------------------------\u001b[0m",
                        "\u001b[0;31mAssertionError\u001b[0m                            Traceback (most recent call last)",
                        "\u001b[0;32m<ipython-input-1-27eae3652e25>\u001b[0m in \u001b[0;36m<module>\u001b[0;34m\u001b[0m\n\u001b[1;32m     20\u001b[0m \u001b[0;34m\u001b[0m\u001b[0m\n\u001b[1;32m     21\u001b[0m \u001b[0mc\u001b[0m \u001b[0;34m=\u001b[0m \u001b[0mClient\u001b[0m\u001b[0;34m(\u001b[0m\u001b[0;34m'IRIS'\u001b[0m\u001b[0;34m)\u001b[0m\u001b[0;34m\u001b[0m\u001b[0;34m\u001b[0m\u001b[0m\n\u001b[0;32m---> 22\u001b[0;31m \u001b[0msc\u001b[0m \u001b[0;34m=\u001b[0m \u001b[0mStore_Client\u001b[0m\u001b[0;34m(\u001b[0m\u001b[0mc\u001b[0m\u001b[0;34m,\u001b[0m \u001b[0mroot\u001b[0m\u001b[0;34m,\u001b[0m \u001b[0mread_only\u001b[0m\u001b[0;34m=\u001b[0m\u001b[0;32mFalse\u001b[0m\u001b[0;34m)\u001b[0m\u001b[0;34m\u001b[0m\u001b[0;34m\u001b[0m\u001b[0m\n\u001b[0m\u001b[1;32m     23\u001b[0m sc.download_waveforms_mdl(\n\u001b[1;32m     24\u001b[0m     \u001b[0mstarttime\u001b[0m\u001b[0;34m,\u001b[0m \u001b[0mendtime\u001b[0m\u001b[0;34m,\u001b[0m \u001b[0mclients\u001b[0m\u001b[0;34m=\u001b[0m\u001b[0;34m[\u001b[0m\u001b[0mc\u001b[0m\u001b[0;34m]\u001b[0m\u001b[0;34m,\u001b[0m \u001b[0mnetwork\u001b[0m\u001b[0;34m=\u001b[0m\u001b[0mnetwork\u001b[0m\u001b[0;34m,\u001b[0m\u001b[0;34m\u001b[0m\u001b[0;34m\u001b[0m\u001b[0m\n",
                        "\u001b[0;32m~/Documents/PhD/programes/miic3/src/miic3/trace_data/waveform.py\u001b[0m in \u001b[0;36m__init__\u001b[0;34m(self, Client, path, read_only)\u001b[0m\n\u001b[1;32m     43\u001b[0m         \u001b[0;34m:\u001b[0m\u001b[0mparam\u001b[0m \u001b[0mread_only\u001b[0m\u001b[0;34m:\u001b[0m \u001b[0mIf\u001b[0m \u001b[0;32mTrue\u001b[0m \u001b[0mthe\u001b[0m \u001b[0mlocal\u001b[0m \u001b[0marchive\u001b[0m \u001b[0;32mis\u001b[0m \u001b[0;32mnot\u001b[0m \u001b[0mextended\u001b[0m\u001b[0;34m.\u001b[0m\u001b[0;34m\u001b[0m\u001b[0;34m\u001b[0m\u001b[0m\n\u001b[1;32m     44\u001b[0m         \"\"\"\n\u001b[0;32m---> 45\u001b[0;31m         \u001b[0;32massert\u001b[0m \u001b[0mos\u001b[0m\u001b[0;34m.\u001b[0m\u001b[0mpath\u001b[0m\u001b[0;34m.\u001b[0m\u001b[0misdir\u001b[0m\u001b[0;34m(\u001b[0m\u001b[0mpath\u001b[0m\u001b[0;34m)\u001b[0m\u001b[0;34m,\u001b[0m \u001b[0;34m\"{} is not a directory\"\u001b[0m\u001b[0;34m.\u001b[0m\u001b[0mformat\u001b[0m\u001b[0;34m(\u001b[0m\u001b[0mpath\u001b[0m\u001b[0;34m)\u001b[0m\u001b[0;34m\u001b[0m\u001b[0;34m\u001b[0m\u001b[0m\n\u001b[0m\u001b[1;32m     46\u001b[0m         \u001b[0mself\u001b[0m\u001b[0;34m.\u001b[0m\u001b[0mfileborder_seconds\u001b[0m \u001b[0;34m=\u001b[0m \u001b[0;36m30\u001b[0m\u001b[0;34m\u001b[0m\u001b[0;34m\u001b[0m\u001b[0m\n\u001b[1;32m     47\u001b[0m         \u001b[0mself\u001b[0m\u001b[0;34m.\u001b[0m\u001b[0mfileborder_samples\u001b[0m \u001b[0;34m=\u001b[0m \u001b[0;36m5000\u001b[0m\u001b[0;34m\u001b[0m\u001b[0;34m\u001b[0m\u001b[0m\n",
                        "\u001b[0;31mAssertionError\u001b[0m: /home/pm/Documents/PhD/programes/miic3/examples/data is not a directory"
                    ]
                }
            ],
            "metadata": {}
        },
        {
            "cell_type": "markdown",
            "source": [
                "Some notes about this:\n",
                "1. The method `download_waveforms_mdl()` expects a list of clients as input.\n",
                "2. All arguments accept wildcards\n",
                "\n",
                "If everything worked fine. This should have created a folder called `data/mseed`. Let's check"
            ],
            "metadata": {}
        },
        {
            "cell_type": "code",
            "execution_count": null,
            "source": [
                "os.listdir('./data/mseed')"
            ],
            "outputs": [],
            "metadata": {}
        }
    ],
    "metadata": {
        "orig_nbformat": 4,
        "language_info": {
            "name": "python",
            "version": "3.8.8",
            "mimetype": "text/x-python",
            "codemirror_mode": {
                "name": "ipython",
                "version": 3
            },
            "pygments_lexer": "ipython3",
            "nbconvert_exporter": "python",
            "file_extension": ".py"
        },
        "kernelspec": {
            "name": "python3",
            "display_name": "Python 3.8.8 64-bit ('miic3': conda)"
        },
        "interpreter": {
            "hash": "06fa2d43ef3883bc300844a1f3cc9eacdbd61183dc38a47ab025ac7a12e40104"
        }
    },
    "nbformat": 4,
    "nbformat_minor": 2
}