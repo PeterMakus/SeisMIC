{
 "metadata": {
  "language_info": {
   "codemirror_mode": {
    "name": "ipython",
    "version": 3
   },
   "file_extension": ".py",
   "mimetype": "text/x-python",
   "name": "python",
   "nbconvert_exporter": "python",
   "pygments_lexer": "ipython3",
   "version": 3
  },
  "orig_nbformat": 2
 },
 "nbformat": 4,
 "nbformat_minor": 2,
 "cells": [
  {
   "source": [
    "## 0. Install the program\n",
    "In Bash as below (make sure you execute those steps in the directory holding the ``environment.yml``)"
   ],
   "cell_type": "markdown",
   "metadata": {}
  },
  {
   "cell_type": "code",
   "execution_count": null,
   "metadata": {},
   "outputs": [],
   "source": [
    "!cd %PATH_TO_MIIC3_SOURCE_CODE\n",
    "!conda env create -f environment.yml\n",
    "!conda activate miic3\n",
    "!pip install -e .  # Installs to current directory (code changes will be applied to installation right away)"
   ]
  },
  {
   "source": [
    "## 1. Preprocess the raw data\n",
    "All the subfolders are located in ``root``. The hdf5 files holding the preprocessed data will be saved in ``outfolder``\n",
    "Rawdata needs to be located inside of a folder called ``mseed`` (see *miic3.trace_data.waveform.SDS_FMTSTR* for file system structure)"
   ],
   "cell_type": "markdown",
   "metadata": {}
  },
  {
   "cell_type": "code",
   "execution_count": null,
   "metadata": {},
   "outputs": [],
   "source": [
    "from miic3.trace_data.preprocess import Preprocessor\n",
    "from miic3.trace_data.waveform import Store_Client\n",
    "from obspy import UTCDateTime\n",
    "from obspy.clients.fdsn import Client\n",
    "import os\n",
    "import time\n",
    "\n",
    "gfz = Client('GFZ')\n",
    "root = '/path/to/project'\n",
    "sc = Store_Client(gfz,root,read_only=False)\n",
    "# The remove response flag decides whether the Instrument Response is to be removed or not\n",
    "c = Preprocessor(sc, sampling_rate=25, outfolder='mypreprocessed_data', remove_response=True)\n",
    "# Start the actual preprocessing, this accepts wildcards\n",
    "c.preprocess_bulk(network='D0', statlist=['BZG', 'ESO', 'KBG','KIR'], backend='joblib', n_cpus=8)"
   ]
  },
  {
   "source": [
    "## 2. Compute Correlations\n",
    "Once the data is preprocessed, we can compute the actual correlations. All parameters for the correlations are set in ``params.yaml``. MOst importantly, the directories at the beginning of the file need to be run.\n",
    "\n",
    "Now, we can initiate the correlations using a script containing the code below:"
   ],
   "cell_type": "markdown",
   "metadata": {}
  },
  {
   "cell_type": "code",
   "execution_count": null,
   "metadata": {},
   "outputs": [],
   "source": [
    "import yaml\n",
    "import os\n",
    "from time import time\n",
    "\n",
    "with open('/path/to/my/params.yaml') as file:\n",
    "    di = yaml.load(file, Loader=yaml.FullLoader)\n",
    "\n",
    "from miic3.correlate.correlate import Correlator\n",
    "c = Correlator(options=di)\n",
    "print('correlator initiated')\n",
    "x = time()\n",
    "st = c.pxcorr()\n",
    "print(time()-x)"
   ]
  },
  {
   "source": [
    "This is mpi compatible. So we can do the following:"
   ],
   "cell_type": "markdown",
   "metadata": {}
  },
  {
   "cell_type": "code",
   "execution_count": null,
   "metadata": {},
   "outputs": [],
   "source": [
    "!mpirun -n %N_CORES python %PATH_TO_THE_SCRIPT_ABOVE"
   ]
  },
  {
   "source": [
    "## 3. Plot the results\n",
    "We access the correlations using the ``CorrelationDataBase`` object"
   ],
   "cell_type": "markdown",
   "metadata": {}
  },
  {
   "cell_type": "code",
   "execution_count": null,
   "metadata": {},
   "outputs": [],
   "source": [
    "from miic3.db.corr_hdf5 import CorrelationDataBase\n",
    "with CorrelationDataBase('/path/to/my/correlations/D0-D0.BZG-ESO.h5') as cdb:\n",
    "    cst = cdb.get_data('D0-D0', 'BZG-ESO',channel='HHZ-HHZ', tag='subdivision')\n",
    "# From here on use matplotlib cst works almost like an obspy stream (i.e., it's a list of traces with a data attribute)"
   ]
  }
 ]
}